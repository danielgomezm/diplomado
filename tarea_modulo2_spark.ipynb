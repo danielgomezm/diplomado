{
 "cells": [
  {
   "cell_type": "code",
   "execution_count": 1,
   "metadata": {},
   "outputs": [
    {
     "name": "stdout",
     "output_type": "stream",
     "text": [
      "[('pop', 2), ('rock', 1)]\n"
     ]
    }
   ],
   "source": [
    "import re\n",
    "\n",
    "tweets_list = []\n",
    "tweets_list.append('2018-06-01,este es un primer tweet,dgomez')\n",
    "tweets_list.append('2018-06-02,me gusta el pop,denisparra')\n",
    "tweets_list.append('2018-06-03,festival de rock,aligabrielli')\n",
    "tweets_list.append('2018-06-04,aqui no hay nada,BarbaritaLaraM')\n",
    "tweets_list.append('2018-06-05,musica pop,dgomez')\n",
    "tweets_list.append('2018-06-06,buen recital,sibekay')\n",
    "\n",
    "styles = []\n",
    "styles.append('pop')\n",
    "styles.append('rock')\n",
    "styles.append('reggaeton')\n",
    "\n",
    "def get_styles(text):\n",
    "    result = []\n",
    "    for style in styles:\n",
    "        if re.search(style, text):\n",
    "            result.append(style)\n",
    "    return result\n",
    "\n",
    "tweets_base    = sc.parallelize(tweets_list)\n",
    "tweets_styles  = tweets_base.flatMap(lambda elem : get_styles(elem))\n",
    "tweets_map     = tweets_styles.map(lambda word: (word, 1))\n",
    "tweets_reduced = tweets_map.reduceByKey(lambda v1, v2 : v1 + v2)\n",
    "print tweets_reduced.collect()"
   ]
  },
  {
   "cell_type": "code",
   "execution_count": 2,
   "metadata": {},
   "outputs": [
    {
     "name": "stdout",
     "output_type": "stream",
     "text": [
      "[(31, 'pop'), (29, 'rock'), (21, 'country'), (9, 'classical'), (8, 'indie'), (6, 'folk'), (6, 'jazz'), (6, 'electro'), (3, 'punk'), (2, 'romantic'), (1, 'reggaeton'), (1, 'ebm')]\n"
     ]
    }
   ],
   "source": [
    "import re\n",
    "\n",
    "styles = ['pop', 'rock', 'reggaeton', 'indie', 'new wave', 'punk', 'electro', 'industrial', \n",
    "          'romantic', 'country', 'jazz', 'folk', 'blues', 'classical', 'ebm', 'experimental']\n",
    "\n",
    "def get_styles(text):\n",
    "    result = []\n",
    "    for style in styles:\n",
    "        if re.search(style, text):\n",
    "            result.append(style)\n",
    "    return result\n",
    "\n",
    "lines = sc.textFile('/user/bberrios/twitter/raw/tweets_2018_05_01_00*')\n",
    "\n",
    "lines0        = lines.filter(lambda x: len(x) > 0)\n",
    "lines1        = lines0.filter(lambda text : len(text.split('\\t')) >= 8)\n",
    "tweets        = lines1.filter(lambda text : re.search('band|music', text))\n",
    "\n",
    "texts         = tweets.map(lambda text : text.split('\\t')[7].encode(\"utf-8\"))\n",
    "texts_styles  = texts.flatMap(lambda tweet : get_styles(tweet))\n",
    "texts_map     = texts_styles.map(lambda term: (term, 1))\n",
    "texts_reduced = texts_map.reduceByKey(lambda v1, v2 : v1 + v2)\n",
    "texts_reves   = texts_reduced.map(lambda (k, v) : (v, k))\n",
    "texts_sort    = texts_reves.sortByKey(False)\n",
    "\n",
    "print texts_sort.collect()"
   ]
  },
  {
   "cell_type": "code",
   "execution_count": 4,
   "metadata": {},
   "outputs": [
    {
     "name": "stdout",
     "output_type": "stream",
     "text": [
      "[(659, 'sweet'), (250, 'dave'), (120, 'moe'), (109, 'zoe'), (75, 'haim'), (67, 'joseph'), (67, 'omni'), (39, 'kansas'), (37, 'camila cabello'), (35, 'tosin'), (28, 'raphael'), (26, 'betty'), (19, 'lauryn hill'), (18, 'mya '), (18, 'smokepurpp'), (17, 'jorja smith'), (15, 'dan band'), (13, 'action bronson'), (13, 'rick ross'), (9, 'dagny'), (9, 'juanes'), (8, 'apache'), (6, 'breeders'), (6, 'emmure'), (6, 'cornelius'), (5, 'tricky '), (5, 'jaden smith'), (5, 'daybreak'), (5, 'sango'), (5, 'halestorm'), (5, 'moneybagg yo'), (5, 'the whispers'), (4, 'editors '), (3, 'echosmith'), (3, 'wyclef jean'), (3, 'obituary'), (3, 'soccer mommy'), (3, 'sigrid'), (2, 'steel panther'), (2, 'springsteen on broadway'), (2, 'peter hook'), (2, 'rina sawayama'), (2, 'cowboy junkies'), (2, 'michael mcdonald'), (2, 'rocktopia'), (2, 'george ezra'), (2, 'melvins'), (2, 'postmodern jukebox'), (2, 'buddy guy'), (2, 'king krule'), (2, 'sum 41'), (2, 'unknown mortal orchestra'), (2, 'yung gravy'), (2, 'parcels'), (1, 'the weeks'), (1, 'slushii '), (1, 'fever ray '), (1, 'calexico'), (1, 'patti smith'), (1, 'laurie berkner'), (1, 'turnstile'), (1, 'sunflower bean'), (1, 'skooly'), (1, 'why dont we'), (1, 'brian fallon'), (1, 'arlo guthrie'), (1, 'jonathan davis'), (1, 'pnb rock'), (1, 'pigeons playing ping pong'), (1, 'devon allman'), (1, 'tom jones'), (1, \"who's bad \"), (1, 'buena vista social club'), (1, 'lord huron'), (1, 'mullett '), (1, 'what so not'), (1, 'princess nokia'), (1, 'roy woods'), (1, 'emerson string quartet'), (1, 'john maus'), (1, 'hawthorne heights'), (1, 'hot in herre: 2000s dance party'), (1, 'miss you like hell'), (1, 'alan menken'), (1, 'orchestra now'), (1, 'sublime with rome'), (1, 'trixie mattel'), (1, 'twin shadow'), (1, 'get the led out'), (1, 'chris tomlin'), (1, 'daniil trifonov')]\n"
     ]
    }
   ],
   "source": [
    "import re\n",
    "\n",
    "artists = []\n",
    "with open('/home/dgomez/artists.txt') as file:\n",
    "    for line in file:\n",
    "        artists.append(line)\n",
    "\n",
    "def get_artists(text):\n",
    "    result = []\n",
    "    for artist in artists:\n",
    "        this_artist = artist.replace('\\n', '').lower()\n",
    "        \n",
    "        if this_artist in text.lower():\n",
    "            result.append(this_artist)\n",
    "    return result\n",
    "\n",
    "lines = sc.textFile('/user/dgomez/twitter/week1/*')\n",
    "\n",
    "lines0        = lines.filter(lambda x: len(x) > 0)\n",
    "lines1        = lines0.filter(lambda text : len(text.split('\\t')) >= 17)\n",
    "texts         = lines1.map(lambda text : text.split('\\t')[16].encode(\"utf-8\"))\n",
    "tweets        = texts.filter(lambda text : re.search('concert|band|music', text, re.IGNORECASE))\n",
    "texts_styles  = tweets.flatMap(lambda tweet : get_artists(tweet))\n",
    "texts_map     = texts_styles.map(lambda term: (term, 1))\n",
    "texts_reduced = texts_map.reduceByKey(lambda v1, v2 : v1 + v2)\n",
    "texts_reves   = texts_reduced.map(lambda (k, v) : (v, k))\n",
    "texts_sort    = texts_reves.sortByKey(False)\n",
    "\n",
    "print texts_sort.collect()"
   ]
  },
  {
   "cell_type": "code",
   "execution_count": 14,
   "metadata": {},
   "outputs": [
    {
     "name": "stdout",
     "output_type": "stream",
     "text": [
      "[(7134, 'sweet'), (2680, 'moe'), (2184, 'mya'), (1828, 'dave'), (1597, 'zoe'), (915, 'joseph'), (797, 'omni'), (451, 'betty'), (424, 'haim'), (311, 'kansas'), (241, 'tosin'), (204, 'raphael'), (179, 'camila cabello'), (174, 'editors'), (125, 'tricky'), (96, 'sango'), (92, 'apache'), (63, 'daybreak'), (60, 'cornelius'), (54, 'smokepurpp'), (38, 'juanes'), (34, 'breeders'), (29, 'rick ross'), (23, 'skream'), (23, 'lauryn hill'), (21, 'sigrid'), (15, 'jaden smith'), (14, 'turnstile'), (14, 'jorja smith'), (14, 'echosmith'), (14, 'parcels'), (13, 'obituary'), (12, 'slushii'), (12, 'halestorm'), (9, 'animal kingdom'), (8, 'calexico'), (8, 'dagny'), (8, 'marian hill'), (7, 'rasputina'), (7, 'why dont we'), (7, 'springsteen on broadway'), (6, 'lily allen'), (5, 'the weeks'), (4, 'chris tomlin'), (4, 'king krule'), (4, 'strawberry fields'), (3, 'moneybagg yo'), (3, 'tom misch'), (3, 'lowest of the low'), (3, 'brett eldredge'), (3, 'peter hook'), (3, 'london symphony orchestra'), (3, 'unknown mortal orchestra'), (3, 'dream wife'), (3, 'the whispers'), (3, 'natalia lafourcade'), (2, 'ruben studdard'), (2, 'skooly'), (2, 'enrique bunbury'), (2, 'twin shadow'), (2, 'michael mcdonald'), (2, 'rina sawayama'), (2, 'soccer mommy'), (2, 'rough trade'), (2, 'tom jones'), (2, 'todd rundgren'), (2, 'yung gravy'), (2, 'buddy guy'), (2, 'dwarves'), (1, 'george ezra'), (1, 'the wonder years'), (1, 'jackie venson'), (1, 'princess nokia'), (1, 'melvins'), (1, 'postmodern jukebox'), (1, 'steel panther'), (1, \"lovin' spoonful\"), (1, 'dark star orchestra'), (1, 'new york philharmonic'), (1, 'rocktopia'), (1, 'eleanor friedberger'), (1, 'trixie mattel'), (1, 'ace frehley'), (1, 'hawthorne heights'), (1, 'dan band'), (1, 'killcode'), (1, 'alice glass'), (1, 'fu manchu'), (1, 'minus the bear'), (1, 'johnny ventura'), (1, 'slick rick'), (1, 'lord huron'), (1, 'action bronson'), (1, 'jim breuer'), (1, 'wyclef jean'), (1, 'will downing'), (1, 'durand jones'), (1, 'red sun rising'), (1, 'brian fallon'), (1, 'steven wilson'), (1, \"who's bad\")]\n"
     ]
    }
   ],
   "source": [
    "import re\n",
    "\n",
    "artists = []\n",
    "with open('/home/dgomez/artists.txt') as file:\n",
    "    for line in file:\n",
    "        artists.append(line)\n",
    "        \n",
    "def get_artists(text):\n",
    "    result = []\n",
    "    for artist in artists:\n",
    "        this_artist = artist.replace('\\n', '').lower()\n",
    "        \n",
    "        if this_artist in text.lower():\n",
    "            result.append(this_artist)\n",
    "    return result\n",
    "\n",
    "lines = sc.textFile('/user/dgomez/twitter/week1/tweets_2018_05_01*')\n",
    "\n",
    "lines0        = lines.filter(lambda x: len(x) > 0)\n",
    "lines1        = lines0.filter(lambda text : len(text.split('\\t')) >= 17)\n",
    "texts         = lines1.map(lambda text : text.split('\\t')[16].encode(\"utf-8\"))\n",
    "#tweets        = texts.filter(lambda text : re.search('concert|band|music', text, re.IGNORECASE))\n",
    "texts_styles  = texts.flatMap(lambda tweet : get_artists(tweet))\n",
    "texts_map     = texts_styles.map(lambda term: (term, 1))\n",
    "texts_reduced = texts_map.reduceByKey(lambda v1, v2 : v1 + v2)\n",
    "texts_reves   = texts_reduced.map(lambda (k, v) : (v, k))\n",
    "texts_sort    = texts_reves.sortByKey(False)\n",
    "\n",
    "print texts_sort.collect()"
   ]
  },
  {
   "cell_type": "code",
   "execution_count": 16,
   "metadata": {},
   "outputs": [
    {
     "name": "stdout",
     "output_type": "stream",
     "text": [
      "[(659, 'sweet'), (250, 'dave'), (152, 'mya'), (120, 'moe'), (109, 'zoe'), (75, 'haim'), (67, 'omni'), (67, 'joseph'), (39, 'kansas'), (37, 'camila cabello'), (35, 'tosin'), (33, 'slushii'), (28, 'raphael'), (26, 'betty'), (19, 'lauryn hill'), (18, 'smokepurpp'), (17, 'jorja smith'), (15, 'dan band'), (13, 'rick ross'), (13, 'action bronson'), (9, 'juanes'), (9, 'dagny'), (8, 'apache'), (7, 'editors'), (7, 'tricky'), (6, 'emmure'), (6, 'breeders'), (6, 'cornelius'), (5, 'halestorm'), (5, 'moneybagg yo'), (5, 'sango'), (5, 'the whispers'), (5, 'daybreak'), (5, 'jaden smith'), (3, 'soccer mommy'), (3, 'obituary'), (3, 'sigrid'), (3, 'echosmith'), (3, 'wyclef jean'), (2, 'peter hook'), (2, 'springsteen on broadway'), (2, 'rina sawayama'), (2, 'parcels'), (2, 'king krule'), (2, 'yung gravy'), (2, 'george ezra'), (2, 'buddy guy'), (2, 'rocktopia'), (2, 'michael mcdonald'), (2, 'steel panther'), (2, 'postmodern jukebox'), (2, 'unknown mortal orchestra'), (2, 'cowboy junkies'), (2, 'melvins'), (2, 'sum 41'), (1, 'alan menken'), (1, 'tom jones'), (1, 'pnb rock'), (1, 'roy woods'), (1, 'sublime with rome'), (1, 'why dont we'), (1, 'john maus'), (1, 'turnstile'), (1, 'lord huron'), (1, 'the weeks'), (1, 'sunflower bean'), (1, 'orchestra now'), (1, \"who's bad\"), (1, 'daniil trifonov'), (1, 'trixie mattel'), (1, 'what so not'), (1, 'jonathan davis'), (1, 'hawthorne heights'), (1, 'arlo guthrie'), (1, 'fever ray'), (1, 'mullett'), (1, 'emerson string quartet'), (1, 'pigeons playing ping pong'), (1, 'laurie berkner'), (1, 'skooly'), (1, 'brian fallon'), (1, 'get the led out'), (1, 'twin shadow'), (1, 'patti smith'), (1, 'hot in herre: 2000s dance party'), (1, 'miss you like hell'), (1, 'princess nokia'), (1, 'chris tomlin'), (1, 'devon allman'), (1, 'buena vista social club'), (1, 'calexico')]\n"
     ]
    }
   ],
   "source": [
    "import re\n",
    "\n",
    "artists = []\n",
    "with open('/home/dgomez/artists.txt') as file:\n",
    "    for line in file:\n",
    "        artists.append(line)\n",
    "        \n",
    "def get_artists(text):\n",
    "    result = []\n",
    "    for artist in artists:\n",
    "        this_artist = artist.replace('\\n', '').lower()\n",
    "        \n",
    "        if this_artist in text.lower():\n",
    "            result.append(this_artist)\n",
    "    return result\n",
    "\n",
    "lines = sc.textFile('/user/dgomez/twitter/week1/*')\n",
    "\n",
    "lines0        = lines.filter(lambda x: len(x) > 0)\n",
    "lines1        = lines0.filter(lambda text : len(text.split('\\t')) >= 17)\n",
    "lines2        = lines1.map(lambda text : text.split('\\t')[16].encode(\"utf-8\"))\n",
    "tweets        = lines2.filter(lambda text : re.search('concert|band|music', text, re.IGNORECASE))\n",
    "texts_artists = tweets.flatMap(lambda tweet : get_artists(tweet))\n",
    "texts_map     = texts_artists.map(lambda term: (term, 1))\n",
    "texts_reduced = texts_map.reduceByKey(lambda v1, v2 : v1 + v2)\n",
    "texts_reves   = texts_reduced.map(lambda (k, v) : (v, k))\n",
    "texts_sort    = texts_reves.sortByKey(False)\n",
    "\n",
    "print texts_sort.collect()"
   ]
  },
  {
   "cell_type": "code",
   "execution_count": null,
   "metadata": {},
   "outputs": [],
   "source": []
  }
 ],
 "metadata": {
  "kernelspec": {
   "display_name": "Python 2.7 (spark)",
   "language": "python",
   "name": "py27spark"
  },
  "language_info": {
   "codemirror_mode": {
    "name": "ipython",
    "version": 2
   },
   "file_extension": ".py",
   "mimetype": "text/x-python",
   "name": "python",
   "nbconvert_exporter": "python",
   "pygments_lexer": "ipython2",
   "version": "2.7.14"
  }
 },
 "nbformat": 4,
 "nbformat_minor": 2
}
