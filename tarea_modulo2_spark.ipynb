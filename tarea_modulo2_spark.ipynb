{
 "cells": [
  {
   "cell_type": "code",
   "execution_count": 2,
   "metadata": {},
   "outputs": [
    {
     "name": "stdout",
     "output_type": "stream",
     "text": [
      "[('pop', 2), ('rock', 1)]\n"
     ]
    }
   ],
   "source": [
    "import re\n",
    "\n",
    "tweets_list = []\n",
    "tweets_list.append('2018-06-01,este es un primer tweet,dgomez')\n",
    "tweets_list.append('2018-06-02,me gusta el pop,denisparra')\n",
    "tweets_list.append('2018-06-03,festival de rock,aligabrielli')\n",
    "tweets_list.append('2018-06-04,aqui no hay nada,BarbaritaLaraM')\n",
    "tweets_list.append('2018-06-05,musica pop,dgomez')\n",
    "tweets_list.append('2018-06-06,buen recital,sibekay')\n",
    "\n",
    "styles = []\n",
    "styles.append('pop')\n",
    "styles.append('rock')\n",
    "styles.append('reggaeton')\n",
    "\n",
    "def get_styles(text):\n",
    "    result = []\n",
    "    for style in styles:\n",
    "        if re.search(style, text):\n",
    "            result.append(style)\n",
    "    return result\n",
    "\n",
    "tweets_base    = sc.parallelize(tweets_list)\n",
    "tweets_styles  = tweets_base.flatMap(lambda elem : get_styles(elem))\n",
    "tweets_map     = tweets_styles.map(lambda word: (word, 1))\n",
    "tweets_reduced = tweets_map.reduceByKey(lambda v1, v2 : v1 + v2)\n",
    "print tweets_reduced.collect()"
   ]
  },
  {
   "cell_type": "code",
   "execution_count": 3,
   "metadata": {},
   "outputs": [
    {
     "name": "stdout",
     "output_type": "stream",
     "text": [
      "[(31, 'pop'), (29, 'rock'), (21, 'country'), (9, 'classical'), (8, 'indie'), (6, 'jazz'), (6, 'electro'), (6, 'folk'), (3, 'punk'), (2, 'romantic'), (1, 'reggaeton'), (1, 'ebm')]\n"
     ]
    }
   ],
   "source": [
    "import re\n",
    "\n",
    "styles = ['pop', 'rock', 'reggaeton', 'indie', 'new wave', 'punk', 'electro', 'industrial', \n",
    "          'romantic', 'country', 'jazz', 'folk', 'blues', 'classical', 'ebm', 'experimental']\n",
    "\n",
    "def get_styles(text):\n",
    "    result = []\n",
    "    for style in styles:\n",
    "        if re.search(style, text):\n",
    "            result.append(style)\n",
    "    return result\n",
    "\n",
    "lines = sc.textFile('/user/bberrios/twitter/raw/tweets_2018_05_01_00*')\n",
    "\n",
    "lines0        = lines.filter(lambda x: len(x) > 0)\n",
    "lines1        = lines0.filter(lambda text : len(text.split('\\t')) >= 8)\n",
    "tweets        = lines1.filter(lambda text : re.search('band|music', text))\n",
    "\n",
    "texts         = tweets.map(lambda text : text.split('\\t')[7].encode(\"utf-8\"))\n",
    "texts_styles  = texts.flatMap(lambda tweet : get_styles(tweet))\n",
    "texts_map     = texts_styles.map(lambda term: (term, 1))\n",
    "texts_reduced = texts_map.reduceByKey(lambda v1, v2 : v1 + v2)\n",
    "texts_reves   = texts_reduced.map(lambda (k, v) : (v, k))\n",
    "texts_sort    = texts_reves.sortByKey(False)\n",
    "\n",
    "print texts_sort.collect()"
   ]
  },
  {
   "cell_type": "code",
   "execution_count": 5,
   "metadata": {},
   "outputs": [
    {
     "name": "stdout",
     "output_type": "stream",
     "text": [
      "[(659, 'sweet'), (250, 'dave'), (152, 'mya'), (120, 'moe'), (109, 'zoe'), (75, 'haim'), (67, 'joseph'), (67, 'omni'), (39, 'kansas'), (37, 'camila cabello'), (35, 'tosin'), (33, 'slushii'), (28, 'raphael'), (26, 'betty'), (19, 'lauryn hill'), (18, 'smokepurpp'), (17, 'jorja smith'), (15, 'dan band'), (13, 'action bronson'), (13, 'rick ross'), (9, 'dagny'), (9, 'juanes'), (8, 'apache'), (7, 'editors'), (7, 'tricky'), (6, 'breeders'), (6, 'emmure'), (6, 'cornelius'), (5, 'sango'), (5, 'jaden smith'), (5, 'moneybagg yo'), (5, 'halestorm'), (5, 'daybreak'), (5, 'the whispers'), (3, 'wyclef jean'), (3, 'soccer mommy'), (3, 'sigrid'), (3, 'echosmith'), (3, 'obituary'), (2, 'king krule'), (2, 'rocktopia'), (2, 'melvins'), (2, 'yung gravy'), (2, 'michael mcdonald'), (2, 'postmodern jukebox'), (2, 'sum 41'), (2, 'buddy guy'), (2, 'unknown mortal orchestra'), (2, 'springsteen on broadway'), (2, 'peter hook'), (2, 'rina sawayama'), (2, 'parcels'), (2, 'cowboy junkies'), (2, 'george ezra'), (2, 'steel panther'), (1, 'turnstile'), (1, 'princess nokia'), (1, 'brian fallon'), (1, 'skooly'), (1, 'emerson string quartet'), (1, 'sunflower bean'), (1, 'john maus'), (1, 'pnb rock'), (1, \"who's bad\"), (1, 'what so not'), (1, 'pigeons playing ping pong'), (1, 'tom jones'), (1, 'hawthorne heights'), (1, 'get the led out'), (1, 'twin shadow'), (1, 'roy woods'), (1, 'fever ray'), (1, 'calexico'), (1, 'trixie mattel'), (1, 'laurie berkner'), (1, 'chris tomlin'), (1, 'arlo guthrie'), (1, 'sublime with rome'), (1, 'lord huron'), (1, 'mullett'), (1, 'buena vista social club'), (1, 'jonathan davis'), (1, 'why dont we'), (1, 'devon allman'), (1, 'patti smith'), (1, 'daniil trifonov'), (1, 'orchestra now'), (1, 'the weeks'), (1, 'hot in herre: 2000s dance party'), (1, 'miss you like hell'), (1, 'alan menken')]\n"
     ]
    }
   ],
   "source": [
    "import re\n",
    "\n",
    "artists = []\n",
    "with open('/home/dgomez/artists.txt') as file:\n",
    "    for line in file:\n",
    "        artists.append(line)\n",
    "        \n",
    "def get_artists(text):\n",
    "    result = []\n",
    "    for artist in artists:\n",
    "        this_artist = artist.replace('\\n', '').lower()\n",
    "        \n",
    "        if this_artist in text.lower():\n",
    "            result.append(this_artist)\n",
    "    return result\n",
    "\n",
    "lines = sc.textFile('/user/dgomez/twitter/week1/*')\n",
    "\n",
    "lines0        = lines.filter(lambda x: len(x) > 0)\n",
    "lines1        = lines0.filter(lambda text : len(text.split('\\t')) >= 17)\n",
    "lines2        = lines1.map(lambda text : text.split('\\t')[16].encode(\"utf-8\"))\n",
    "tweets        = lines2.filter(lambda text : re.search('concert|band|music', text, re.IGNORECASE))\n",
    "texts_artists = tweets.flatMap(lambda tweet : get_artists(tweet))\n",
    "texts_map     = texts_artists.map(lambda term: (term, 1))\n",
    "texts_reduced = texts_map.reduceByKey(lambda v1, v2 : v1 + v2)\n",
    "texts_reves   = texts_reduced.map(lambda (k, v) : (v, k))\n",
    "texts_sort    = texts_reves.sortByKey(False)\n",
    "\n",
    "print texts_sort.collect()"
   ]
  },
  {
   "cell_type": "code",
   "execution_count": null,
   "metadata": {},
   "outputs": [],
   "source": []
  }
 ],
 "metadata": {
  "kernelspec": {
   "display_name": "Python 2.7 (spark)",
   "language": "python",
   "name": "py27spark"
  },
  "language_info": {
   "codemirror_mode": {
    "name": "ipython",
    "version": 2
   },
   "file_extension": ".py",
   "mimetype": "text/x-python",
   "name": "python",
   "nbconvert_exporter": "python",
   "pygments_lexer": "ipython2",
   "version": "2.7.14"
  }
 },
 "nbformat": 4,
 "nbformat_minor": 2
}
