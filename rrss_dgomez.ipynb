{
 "cells": [
  {
   "cell_type": "markdown",
   "metadata": {},
   "source": [
    "# Modelo de regresion"
   ]
  },
  {
   "cell_type": "code",
   "execution_count": 12,
   "metadata": {},
   "outputs": [],
   "source": [
    "import pandas as pd\n",
    "import numpy as np\n",
    "import seaborn as sns\n",
    "import sklearn_pandas as sp\n",
    "import sys\n",
    "import copy\n",
    "import warnings\n",
    "\n",
    "from sklearn.metrics import r2_score\n",
    "from sklearn.metrics import mean_squared_error\n",
    "from sklearn.neighbors import KNeighborsRegressor\n",
    "from sklearn.ensemble import GradientBoostingRegressor\n",
    "from sklearn.preprocessing import StandardScaler\n",
    "from sklearn.preprocessing import LabelBinarizer\n",
    "from sklearn.model_selection import train_test_split\n",
    "from matplotlib import pyplot as plt\n",
    "from sklearn.model_selection import cross_val_score, cross_val_predict\n",
    "from sklearn.model_selection import KFold\n",
    "from scipy.stats.stats import pearsonr\n",
    "from scipy import stats\n",
    "\n",
    "warnings.filterwarnings('ignore')"
   ]
  },
  {
   "cell_type": "code",
   "execution_count": 13,
   "metadata": {},
   "outputs": [
    {
     "name": "stdout",
     "output_type": "stream",
     "text": [
      "count: 1243\n",
      "mean: 81.34111021721641\n",
      "std: 23.539793444654286\n"
     ]
    }
   ],
   "source": [
    "# carga de datos\n",
    "\n",
    "dataset = pd.read_csv('/home/dgomez/rrss_final.csv')\n",
    "print \"count: \" + str(dataset['tickets'].count())\n",
    "print \"mean: \" + str(dataset['tickets'].mean())\n",
    "print \"std: \" + str(dataset['tickets'].std())\n",
    "dataset = dataset.replace(np.NaN, 0)\n",
    "total = len(dataset)\n",
    "size = int(0.90 * total)"
   ]
  },
  {
   "cell_type": "code",
   "execution_count": 14,
   "metadata": {},
   "outputs": [],
   "source": [
    "# seleccion de variables\n",
    "\n",
    "mapper = sp.DataFrameMapper([\n",
    "    ('dayofweek', LabelBinarizer()),\n",
    "    (['state_pob', 'capacity', 'price', 'facebook_likes', 'youtube_suscrs', 'youtube_views',\n",
    "    'instagram_folls', 'instagram_likes', 'spotify_folls', 'spotify_pop',\n",
    "    'twitter_folls', 'twitter_mencs_usa', 'twitter_mencs',\n",
    "     'facebook_crec', 'youtube_crec', 'instagram_crec', 'twitter_crec'], StandardScaler())\n",
    "    ])\n",
    "X = dataset[['dayofweek', 'state_pob', 'capacity', 'price',\n",
    "        'facebook_likes', 'youtube_suscrs', 'youtube_views',\n",
    "        'instagram_folls', 'instagram_likes',\n",
    "        'spotify_folls', 'spotify_pop',\n",
    "        'twitter_folls', 'twitter_mencs_usa', 'twitter_mencs',\n",
    "        'facebook_crec', 'youtube_crec', 'instagram_crec', 'twitter_crec']]\n",
    "X = mapper.fit_transform(X) # numpy.ndarray\n",
    "y = dataset['tickets'] # dataframe"
   ]
  },
  {
   "cell_type": "markdown",
   "metadata": {},
   "source": [
    "### Comparativa KNN vs Gradient"
   ]
  },
  {
   "cell_type": "code",
   "execution_count": 15,
   "metadata": {},
   "outputs": [
    {
     "name": "stdout",
     "output_type": "stream",
     "text": [
      "Resultado KNN: [512.11, 523.59, 489.46, 679.69, 550.33] = 551.04\n",
      "Resultado Gradient: [391.04, 392.35, 436.98, 449.98, 385.06] = 411.08\n",
      "\n",
      "Resultado KNN: [524.39, 556.64, 608.58, 618.54, 498.15] = 561.26\n",
      "Resultado Gradient: [380.05, 440.99, 428.86, 436.84, 389.89] = 415.33\n",
      "\n",
      "Resultado KNN: [544.74, 557.74, 521.81, 490.11, 587.91] = 540.46\n",
      "Resultado Gradient: [397.74, 409.52, 420.06, 369.95, 425.93] = 404.64\n",
      "\n",
      "Resultado KNN: [545.17, 610.01, 485.29, 545.29, 502.92] = 537.74\n",
      "Resultado Gradient: [401.48, 470.17, 367.52, 407.0, 347.5] = 398.73\n",
      "\n",
      "Resultado KNN: [554.13, 517.01, 531.41, 557.09, 531.04] = 538.14\n",
      "Resultado Gradient: [405.13, 395.63, 408.18, 386.63, 414.84] = 402.08\n",
      "\n",
      "Resultado KNN: [532.36, 531.24, 595.05, 552.53, 614.9] = 565.22\n",
      "Resultado Gradient: [427.42, 399.2, 408.5, 415.94, 457.9] = 421.79\n",
      "\n",
      "Resultado KNN: [551.89, 463.49, 594.25, 570.25, 577.09] = 551.39\n",
      "Resultado Gradient: [398.74, 344.15, 494.41, 366.61, 504.24] = 421.63\n",
      "\n",
      "Resultado KNN: [420.07, 528.05, 660.37, 629.63, 600.08] = 567.64\n",
      "Resultado Gradient: [358.74, 413.19, 448.51, 448.06, 391.2] = 411.94\n",
      "\n",
      "Resultado KNN: [544.99, 492.3, 462.32, 603.46, 566.44] = 533.9\n",
      "Resultado Gradient: [389.43, 378.04, 386.81, 468.82, 442.82] = 413.18\n",
      "\n",
      "Resultado KNN: [540.86, 505.25, 544.44, 579.22, 526.9] = 539.33\n",
      "Resultado Gradient: [467.17, 377.34, 401.59, 434.12, 394.17] = 414.88\n",
      "\n"
     ]
    }
   ],
   "source": [
    "from sklearn.model_selection import KFold\n",
    "\n",
    "exp_gradient, exp_knn = [], []\n",
    "for i in range(10):\n",
    "    resultados_knn, resultados_gradient = [], []\n",
    "    X=np.array(X)\n",
    "    kf = KFold(n_splits=5,shuffle=True)\n",
    "    for k, (train, test) in enumerate(kf.split(X, y)):\n",
    "        X_train, X_test = X[train,:], X[test,:]\n",
    "        y_train, y_test = y[train], y[test]\n",
    "        \n",
    "        knn = KNeighborsRegressor()\n",
    "        knn.fit(X_train,y_train)\n",
    "        y_pred1 = knn.predict(X_test)\n",
    "        \n",
    "        gradient = GradientBoostingRegressor()\n",
    "        gradient.fit(X_train,y_train)\n",
    "        y_pred2 = gradient.predict(X_test)\n",
    "        \n",
    "        resultados_knn.append(mean_squared_error(y_test,y_pred1).round(2))\n",
    "        resultados_gradient.append(mean_squared_error(y_test,y_pred2).round(decimals=2))\n",
    "        \n",
    "    print \"Resultado KNN: \" + str(resultados_knn) + \" = \" + str(np.mean(resultados_knn).round(2))\n",
    "    print \"Resultado Gradient: \" + str(resultados_gradient) + \" = \" + str(np.mean(resultados_gradient).round(2))\n",
    "    print\n",
    "    exp_gradient.append(np.mean(resultados_gradient))\n",
    "    exp_knn.append(np.mean(resultados_knn))"
   ]
  },
  {
   "cell_type": "code",
   "execution_count": 16,
   "metadata": {},
   "outputs": [
    {
     "name": "stdout",
     "output_type": "stream",
     "text": [
      "Promedio Experimentos KNN... MEDIA: 548.61, STD: 11.87\n",
      "Promedio Experimentos Gradient... MEDIA: 411.53, STD: 7.32\n"
     ]
    }
   ],
   "source": [
    "print \"Promedio Experimentos KNN... MEDIA: \" + str(np.mean(exp_knn).round(2)) + \", STD: \" + str(np.std(exp_knn).round(2))\n",
    "print \"Promedio Experimentos Gradient... MEDIA: \" + str(np.mean(exp_gradient).round(2)) + \", STD: \" + str(np.std(exp_gradient).round(2))"
   ]
  },
  {
   "cell_type": "code",
   "execution_count": 17,
   "metadata": {},
   "outputs": [
    {
     "data": {
      "image/png": "[encoded data removed]",
      "text/plain": [
       "<Figure size 432x288 with 1 Axes>"
      ]
     },
     "metadata": {},
     "output_type": "display_data"
    },
    {
     "data": {
      "image/png": "[encoded data removed]",
      "text/plain": [
       "<Figure size 432x288 with 1 Axes>"
      ]
     },
     "metadata": {},
     "output_type": "display_data"
    }
   ],
   "source": [
    "corr_knn = pearsonr(y_pred1,y_test)[0]\n",
    "rsquared_knn = r2_score(y_test, y_pred1)\n",
    "plt.scatter(y_test, y_pred1)\n",
    "plt.title(\"KNN Corr=%f Rsq=%f\"\n",
    "% (corr_knn, rsquared_knn))\n",
    "plt.xlabel(\"real\")\n",
    "plt.ylabel(\"prediccion\")\n",
    "plt.plot(y_test, y_test, 'k--')\n",
    "plt.show()\n",
    "corr_gradient = pearsonr(y_pred2,y_test)[0]\n",
    "rsquared_gradient = round(\n",
    "r2_score(y_test, y_pred2), 3)\n",
    "plt.scatter(y_test, y_pred2)\n",
    "plt.title(\"Gradient Corr=%f Rsq=%f\"\n",
    "% (corr_gradient, rsquared_gradient))\n",
    "plt.xlabel(\"real\")\n",
    "plt.ylabel(\"prediccion\")\n",
    "plt.plot(y_test, y_test, 'k--')\n",
    "plt.show()"
   ]
  },
  {
   "cell_type": "code",
   "execution_count": 18,
   "metadata": {},
   "outputs": [
    {
     "name": "stdout",
     "output_type": "stream",
     "text": [
      "t = -29.489584572074087\n",
      "p = 1.085464071194575e-16\n",
      "\n",
      "Rechazamos la hipotesis NULA. Las diferencias son estadisticamente significativas!\n"
     ]
    }
   ],
   "source": [
    "t2, p2 = stats.ttest_ind(exp_gradient, exp_knn)\n",
    "print(\"t = \" + str(t2))\n",
    "print(\"p = \" + str(p2))\n",
    "print\n",
    "if p2<0.05:\n",
    "    print(\"Rechazamos la hipotesis NULA. Las diferencias son estadisticamente significativas!\")\n",
    "else:\n",
    "    print(\"No podemos rechazar la hipotesis NULA. Las diferencias no son estadisticamente significativas!\")"
   ]
  },
  {
   "cell_type": "code",
   "execution_count": null,
   "metadata": {},
   "outputs": [],
   "source": []
  }
 ],
 "metadata": {
  "kernelspec": {
   "display_name": "Python 2.7",
   "language": "python",
   "name": "py27"
  },
  "language_info": {
   "codemirror_mode": {
    "name": "ipython",
    "version": 2
   },
   "file_extension": ".py",
   "mimetype": "text/x-python",
   "name": "python",
   "nbconvert_exporter": "python",
   "pygments_lexer": "ipython2",
   "version": "2.7.14"
  }
 },
 "nbformat": 4,
 "nbformat_minor": 2
}
