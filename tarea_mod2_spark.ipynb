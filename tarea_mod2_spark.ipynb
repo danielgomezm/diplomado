{
 "cells": [
  {
   "cell_type": "code",
   "execution_count": 2,
   "metadata": {},
   "outputs": [
    {
     "name": "stdout",
     "output_type": "stream",
     "text": [
      "[('pop', 2), ('rock', 1)]\n"
     ]
    }
   ],
   "source": [
    "import re\n",
    "\n",
    "tweets_list = []\n",
    "tweets_list.append('2018-06-01,este es un primer tweet,dgomez')\n",
    "tweets_list.append('2018-06-02,me gusta el pop,denisparra')\n",
    "tweets_list.append('2018-06-03,festival de rock,aligabrielli')\n",
    "tweets_list.append('2018-06-04,aqui no hay nada,BarbaritaLaraM')\n",
    "tweets_list.append('2018-06-05,musica pop,dgomez')\n",
    "tweets_list.append('2018-06-06,buen recital,sibekay')\n",
    "\n",
    "styles = []\n",
    "styles.append('pop')\n",
    "styles.append('rock')\n",
    "styles.append('reggaeton')\n",
    "\n",
    "def get_styles(text):\n",
    "    result = []\n",
    "    for style in styles:\n",
    "        if re.search(style, text):\n",
    "            result.append(style)\n",
    "    return result\n",
    "\n",
    "tweets_base    = sc.parallelize(tweets_list)\n",
    "tweets_styles  = tweets_base.flatMap(lambda elem : get_styles(elem))\n",
    "tweets_map     = tweets_styles.map(lambda word: (word, 1))\n",
    "tweets_reduced = tweets_map.reduceByKey(lambda v1, v2 : v1 + v2)\n",
    "print tweets_reduced.collect()"
   ]
  },
  {
   "cell_type": "code",
   "execution_count": 31,
   "metadata": {},
   "outputs": [
    {
     "name": "stdout",
     "output_type": "stream",
     "text": [
      "[(31, 'pop'), (29, 'rock'), (21, 'country'), (9, 'classical'), (8, 'indie'), (6, 'jazz'), (6, 'electro'), (6, 'folk'), (3, 'punk'), (2, 'romantic'), (1, 'reggaeton'), (1, 'ebm')]\n"
     ]
    }
   ],
   "source": [
    "import re\n",
    "\n",
    "styles = ['pop', 'rock', 'reggaeton', 'indie', 'new wave', 'punk', 'electro', 'industrial', \n",
    "          'romantic', 'country', 'jazz', 'folk', 'blues', 'classical', 'ebm', 'experimental']\n",
    "\n",
    "def get_styles(text):\n",
    "    result = []\n",
    "    for style in styles:\n",
    "        if re.search(style, text):\n",
    "            result.append(style)\n",
    "    return result\n",
    "\n",
    "lines = sc.textFile('/user/bberrios/twitter/raw/tweets_2018_05_01_00*')\n",
    "\n",
    "lines0        = lines.filter(lambda x: len(x) > 0)\n",
    "lines1        = lines0.filter(lambda text : len(text.split('\\t')) >= 8)\n",
    "tweets        = lines1.filter(lambda text : re.search('band|music', text))\n",
    "\n",
    "texts         = tweets.map(lambda text : text.split('\\t')[7].encode(\"utf-8\"))\n",
    "texts_styles  = texts.flatMap(lambda tweet : get_styles(tweet))\n",
    "texts_map     = texts_styles.map(lambda term: (term, 1))\n",
    "texts_reduced = texts_map.reduceByKey(lambda v1, v2 : v1 + v2)\n",
    "texts_reves   = texts_reduced.map(lambda (k, v) : (v, k))\n",
    "texts_sort    = texts_reves.sortByKey(False)\n",
    "\n",
    "print texts_sort.collect()"
   ]
  },
  {
   "cell_type": "code",
   "execution_count": 32,
   "metadata": {},
   "outputs": [
    {
     "name": "stdout",
     "output_type": "stream",
     "text": [
      "[(42, 'Sweet'), (31, 'Camila Cabello'), (18, 'Kansas'), (13, 'Dave'), (12, 'Zoe'), (7, 'Omni'), (4, 'Joseph'), (4, 'Moe'), (4, 'Editors '), (3, 'Enrique Bunbury'), (3, 'Sum 41'), (2, 'Apache'), (2, 'Cornelius'), (2, 'Betty'), (2, 'Marian Hill'), (1, 'Raphael'), (1, 'Obituary'), (1, 'Tom Jones'), (1, 'Juanes'), (1, 'Brett Eldredge'), (1, 'Buena Vista Social Club'), (1, 'Andrew McMahon'), (1, 'Fu Manchu'), (1, 'Dwarves'), (1, 'Daybreak'), (1, 'Halestorm'), (1, 'What So Not')]\n"
     ]
    }
   ],
   "source": [
    "artists = []\n",
    "with open('shows.txt') as file:\n",
    "    for line in file:\n",
    "        artists.append(line)\n",
    "\n",
    "def get_artists(text):\n",
    "    result = []\n",
    "    for artist in artists:\n",
    "        this = artist.replace('\\n', '')\n",
    "        if re.search(this, text):\n",
    "            result.append(this)\n",
    "    return result\n",
    "\n",
    "lines = sc.textFile('/user/bberrios/twitter/raw/tweets_2018_05_01_*')\n",
    "\n",
    "lines0        = lines.filter(lambda x: len(x) > 0)\n",
    "lines1        = lines0.filter(lambda text : len(text.split('\\t')) >= 8)\n",
    "tweets        = lines1.filter(lambda text : re.search('band|music', text))\n",
    "\n",
    "texts         = tweets.map(lambda text : text.split('\\t')[7].encode(\"utf-8\"))\n",
    "texts_styles  = texts.flatMap(lambda tweet : get_artists(tweet))\n",
    "texts_map     = texts_styles.map(lambda term: (term, 1))\n",
    "texts_reduced = texts_map.reduceByKey(lambda v1, v2 : v1 + v2)\n",
    "texts_reves   = texts_reduced.map(lambda (k, v) : (v, k))\n",
    "texts_sort    = texts_reves.sortByKey(False)\n",
    "\n",
    "print texts_sort.collect()"
   ]
  },
  {
   "cell_type": "code",
   "execution_count": null,
   "metadata": {},
   "outputs": [],
   "source": []
  }
 ],
 "metadata": {
  "kernelspec": {
   "display_name": "Python 2.7 (spark)",
   "language": "python",
   "name": "py27spark"
  },
  "language_info": {
   "codemirror_mode": {
    "name": "ipython",
    "version": 2
   },
   "file_extension": ".py",
   "mimetype": "text/x-python",
   "name": "python",
   "nbconvert_exporter": "python",
   "pygments_lexer": "ipython2",
   "version": "2.7.14"
  }
 },
 "nbformat": 4,
 "nbformat_minor": 2
}
